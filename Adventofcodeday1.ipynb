{
 "cells": [
  {
   "cell_type": "code",
   "execution_count": 8,
   "id": "50f9e602",
   "metadata": {},
   "outputs": [
    {
     "name": "stdout",
     "output_type": "stream",
     "text": [
      "1446\n"
     ]
    }
   ],
   "source": [
    "f = open(r\"C:\\Users\\krisd\\aoc1.txt\", \"r\")\n",
    "tempdata = f.read().splitlines()\n",
    "data = [int(i) for i in tempdata]\n",
    "\n",
    "larger = 0\n",
    "\n",
    "for i in range(len(data)-1):\n",
    "    if int(data[i+1]) > int((data[i])):\n",
    "        larger += 1\n",
    "        \n",
    "print(larger)     \n"
   ]
  },
  {
   "cell_type": "code",
   "execution_count": 9,
   "id": "2972409a",
   "metadata": {},
   "outputs": [
    {
     "name": "stdout",
     "output_type": "stream",
     "text": [
      "1486\n"
     ]
    }
   ],
   "source": [
    "def tresum(chunk):\n",
    "    count = 0\n",
    "    previous_sum = chunk[0:3]\n",
    "    for i in range(1,len(chunk)-2):\n",
    "        if int(sum(chunk[i:i+3])) > int(sum(previous_sum)):\n",
    "            count += 1\n",
    "        previous_sum = chunk[i:i+3]\n",
    "    return count    \n",
    "print(tresum(data))"
   ]
  }
 ],
 "metadata": {
  "kernelspec": {
   "display_name": "Python 3",
   "language": "python",
   "name": "python3"
  },
  "language_info": {
   "codemirror_mode": {
    "name": "ipython",
    "version": 3
   },
   "file_extension": ".py",
   "mimetype": "text/x-python",
   "name": "python",
   "nbconvert_exporter": "python",
   "pygments_lexer": "ipython3",
   "version": "3.8.8"
  }
 },
 "nbformat": 4,
 "nbformat_minor": 5
}
