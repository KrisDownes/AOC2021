{
 "cells": [
  {
   "cell_type": "code",
   "execution_count": 104,
   "id": "e3e48316",
   "metadata": {},
   "outputs": [],
   "source": [
    "import numpy as np\n",
    "nums,*data = open(r\"\\adventday4.txt\", \"r\")\n",
    "nums = np.loadtxt(nums.split(','),int)\n",
    "data = np.loadtxt(data,int).reshape(-1,5,5)"
   ]
  },
  {
   "cell_type": "code",
   "execution_count": 381,
   "id": "e8d7c508",
   "metadata": {},
   "outputs": [],
   "source": [
    "def bingo(nums,data):\n",
    "    state = data.dot(0)\n",
    "    for i in range(len(nums)):\n",
    "            if nums[i] in data:\n",
    "                loc = np.array(np.where(data==nums[i]))\n",
    "                for k in range(loc.shape[1]):\n",
    "                    state[loc[0][k],loc[1][k],loc[2][k]] = 1\n",
    "            for h in range(len(data)):\n",
    "                for l in range(len(data[0])):\n",
    "                    rowsum = np.sum(state[h][l])\n",
    "                    colsum = np.sum(state[h][:,l])\n",
    "                    if rowsum == 5 or colsum == 5:\n",
    "                        print(\"winning board is {0} after {1} numbers\".format(h,i))\n",
    "                        return(data[h],state[h],nums[i])"
   ]
  },
  {
   "cell_type": "code",
   "execution_count": 390,
   "id": "f18f3c6f",
   "metadata": {},
   "outputs": [
    {
     "name": "stdout",
     "output_type": "stream",
     "text": [
      "winning board is 68 after 15 numbers\n"
     ]
    },
    {
     "data": {
      "text/plain": [
       "41668"
      ]
     },
     "execution_count": 390,
     "metadata": {},
     "output_type": "execute_result"
    }
   ],
   "source": [
    "board,statewin,lnum = bingo(nums,data)\n",
    "board,statewin\n",
    "zeros = np.where(statewin==0)\n",
    "sum = 0\n",
    "for i in range(len(zeros[0])):\n",
    "    sum += board[zeros[0][i],zeros[1][i]]\n",
    "    \n",
    "sum*lnum"
   ]
  },
  {
   "cell_type": "code",
   "execution_count": 352,
   "id": "d1235ee1",
   "metadata": {},
   "outputs": [],
   "source": [
    "def p2(nums,data):\n",
    "    state = data.dot(0)\n",
    "    for i in range(len(nums)):\n",
    "            if nums[i] in data:\n",
    "                loc = np.array(np.where(data==nums[i]))\n",
    "                for k in range(loc.shape[1]):\n",
    "                    state[loc[0][k],loc[1][k],loc[2][k]] = 1\n",
    "            winners = []\n",
    "            for h in range(len(data)):\n",
    "                for l in range(len(data[0])):\n",
    "                    rowsum = np.sum(state[h][l])\n",
    "                    colsum = np.sum(state[h][:,l])\n",
    "                    \n",
    "                    if rowsum == 5 or colsum == 5:\n",
    "                        winners.append(h)\n",
    "                        if (100-len(set(winners))) ==1:\n",
    "                            for u in range(100):\n",
    "                                if u not in set(winners):\n",
    "                                    print(u)\n",
    "                                    return(u)"
   ]
  },
  {
   "cell_type": "code",
   "execution_count": 392,
   "id": "2b0b53ed",
   "metadata": {},
   "outputs": [
    {
     "name": "stdout",
     "output_type": "stream",
     "text": [
      "winning board is 0 after 83 numbers\n",
      "[[26 47  2 22  9]\n",
      " [ 6 81 53 17 88]\n",
      " [58 25 55 31 19]\n",
      " [42 27 85 97 14]\n",
      " [64 52 66 63 51]] [[1 1 1 1 0]\n",
      " [1 0 1 1 1]\n",
      " [0 0 1 1 1]\n",
      " [1 1 0 1 0]\n",
      " [1 1 0 1 1]] 31\n"
     ]
    },
    {
     "data": {
      "text/plain": [
       "10478"
      ]
     },
     "execution_count": 392,
     "metadata": {},
     "output_type": "execute_result"
    }
   ],
   "source": [
    "board,statewin,lnum = bingo_loss(nums,data[14])\n",
    "board,statewin\n",
    "zeros = np.where(statewin==0)\n",
    "print(board,statewin,lnum)\n",
    "sum = 0\n",
    "for i in range(len(zeros[0])):\n",
    "    sum += board[zeros[0][i],zeros[1][i]]\n",
    "    \n",
    "sum*lnum"
   ]
  },
  {
   "cell_type": "code",
   "execution_count": 388,
   "id": "42babc94",
   "metadata": {},
   "outputs": [],
   "source": [
    "def bingo_loss(nums,data):\n",
    "    state = data.dot(0)\n",
    "    for i in range(len(nums)):\n",
    "            if nums[i] in data:\n",
    "                loc = np.array(np.where(data==nums[i]))\n",
    "                for k in range(loc.shape[1]):\n",
    "                    state[loc[0][k],loc[1][k]] = 1\n",
    "            for h in range(len(data)):\n",
    "                for l in range(len(data[0])):\n",
    "                    rowsum = np.sum(state[h][l])\n",
    "                    colsum = np.sum(state[:,l])\n",
    "                    if rowsum == 5 or colsum == 5:\n",
    "                        print(\"winning board is {0} after {1} numbers\".format(h,i))\n",
    "                        return(data,state,nums[i])"
   ]
  }
 ],
 "metadata": {
  "kernelspec": {
   "display_name": "Python 3",
   "language": "python",
   "name": "python3"
  },
  "language_info": {
   "codemirror_mode": {
    "name": "ipython",
    "version": 3
   },
   "file_extension": ".py",
   "mimetype": "text/x-python",
   "name": "python",
   "nbconvert_exporter": "python",
   "pygments_lexer": "ipython3",
   "version": "3.8.8"
  }
 },
 "nbformat": 4,
 "nbformat_minor": 5
}
