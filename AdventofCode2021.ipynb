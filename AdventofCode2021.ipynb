{
 "cells": [
  {
   "cell_type": "code",
   "execution_count": 8,
   "id": "a517eabd",
   "metadata": {},
   "outputs": [
    {
     "name": "stdout",
     "output_type": "stream",
     "text": [
      "1446\n"
     ]
    }
   ],
   "source": [
    "f = open(r\"C:\\Users\\krisd\\aoc1.txt\", \"r\")\n",
    "tempdata = f.read().splitlines()\n",
    "data = [int(i) for i in tempdata]\n",
    "\n",
    "larger = 0\n",
    "\n",
    "for i in range(len(data)-1):\n",
    "    if int(data[i+1]) > int((data[i])):\n",
    "        larger += 1\n",
    "        \n",
    "print(larger)     \n"
   ]
  },
  {
   "cell_type": "code",
   "execution_count": 9,
   "id": "9485bf08",
   "metadata": {},
   "outputs": [
    {
     "name": "stdout",
     "output_type": "stream",
     "text": [
      "1486\n"
     ]
    }
   ],
   "source": [
    "def tresum(chunk):\n",
    "    count = 0\n",
    "    previous_sum = chunk[0:3]\n",
    "    for i in range(1,len(chunk)-2):\n",
    "        if int(sum(chunk[i:i+3])) > int(sum(previous_sum)):\n",
    "            count += 1\n",
    "        previous_sum = chunk[i:i+3]\n",
    "    return count    \n",
    "print(tresum(data))"
   ]
  },
  {
   "cell_type": "code",
   "execution_count": 166,
   "id": "ff928c76",
   "metadata": {},
   "outputs": [
    {
     "data": {
      "text/plain": [
       "852500"
      ]
     },
     "execution_count": 166,
     "metadata": {},
     "output_type": "execute_result"
    }
   ],
   "source": [
    "import statistics\n",
    "q = open(r\"C:\\Users\\krisd\\aoc3.txt\", \"r\")\n",
    "tempdata3 = q.read().splitlines()\n",
    "data3 = [str(i) for i in tempdata3]\n",
    "mc = []\n",
    "for k in range(len(data3[0])):\n",
    "    mc.append((statistics.mode([x[k] for x in data3])))\n",
    "    \n",
    "gamma =(''.join(mc))\n",
    "eps = ''.join([str(1) if x ==\"0\" else str(0) for x in gamma])\n",
    "gamma =int(gamma,2)\n",
    "eps = (int(eps,2))\n",
    "consum = gamma * eps\n",
    "consum"
   ]
  },
  {
   "cell_type": "code",
   "execution_count": 124,
   "id": "06cc0908",
   "metadata": {},
   "outputs": [],
   "source": [
    "def most_common(data,y):\n",
    "    tmp = [x[y] for x in data]\n",
    "    zero = tmp.count('0')\n",
    "    uno = tmp.count('1')\n",
    "    if uno > zero:\n",
    "        mc = str(1)\n",
    "    elif zero > uno:\n",
    "        mc = str(0)\n",
    "    elif zero == uno:\n",
    "        mc = str(1)\n",
    "    return mc\n",
    "    "
   ]
  },
  {
   "cell_type": "code",
   "execution_count": 150,
   "id": "45b409b7",
   "metadata": {},
   "outputs": [],
   "source": [
    "def least_common(data,y):\n",
    "    tmp = [x[y] for x in data]\n",
    "    zero = tmp.count('0')\n",
    "    uno = tmp.count('1')\n",
    "    if uno > zero:\n",
    "        mc = str(0)\n",
    "    elif zero > uno:\n",
    "        mc = str(1)\n",
    "    elif zero == uno:\n",
    "        mc = str(0)\n",
    "    return mc"
   ]
  },
  {
   "cell_type": "code",
   "execution_count": null,
   "id": "93f49d00",
   "metadata": {},
   "outputs": [],
   "source": [
    "def trav(data,col,mc):\n",
    "    dt = []\n",
    "    for i in range(len(data)):\n",
    "        if data[i][col]==mc:\n",
    "            dt.append(data[i])\n",
    "    return dt     "
   ]
  },
  {
   "cell_type": "code",
   "execution_count": 165,
   "id": "b68c54e8",
   "metadata": {},
   "outputs": [],
   "source": [
    "data = data3\n",
    "for i in range(len(data3[0])):\n",
    "    mc = most_common(data,i)\n",
    "    data = trav(data,i,mc)\n",
    "ox = ''.join(data)\n",
    "ox = int(ox,2)\n"
   ]
  },
  {
   "cell_type": "code",
   "execution_count": 164,
   "id": "38257d0a",
   "metadata": {
    "scrolled": true
   },
   "outputs": [
    {
     "data": {
      "text/plain": [
       "1007985"
      ]
     },
     "execution_count": 164,
     "metadata": {},
     "output_type": "execute_result"
    }
   ],
   "source": [
    "ndt = data3\n",
    "\n",
    "for i in range(len(data3[0])):\n",
    "    if len(ndt) > 1:\n",
    "        lc = least_common(ndt,i)\n",
    "        ndt = trav(ndt,i,lc)\n",
    "    else:\n",
    "        break\n",
    "\n",
    "\n",
    "c02 = ''.join(ndt)\n",
    "c02 = int(c02,2)\n",
    "ox * c02"
   ]
  }
 ],
 "metadata": {
  "kernelspec": {
   "display_name": "Python 3",
   "language": "python",
   "name": "python3"
  },
  "language_info": {
   "codemirror_mode": {
    "name": "ipython",
    "version": 3
   },
   "file_extension": ".py",
   "mimetype": "text/x-python",
   "name": "python",
   "nbconvert_exporter": "python",
   "pygments_lexer": "ipython3",
   "version": "3.8.8"
  }
 },
 "nbformat": 4,
 "nbformat_minor": 5
}
