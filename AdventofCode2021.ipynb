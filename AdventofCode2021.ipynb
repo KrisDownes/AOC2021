{
 "cells": [
  {
   "cell_type": "code",
   "execution_count": 8,
   "id": "a517eabd",
   "metadata": {},
   "outputs": [
    {
     "name": "stdout",
     "output_type": "stream",
     "text": [
      "1446\n"
     ]
    }
   ],
   "source": [
    "f = open(r\"aoc1.txt\", \"r\")\n",
    "tempdata = f.read().splitlines()\n",
    "data = [int(i) for i in tempdata]\n",
    "\n",
    "larger = 0\n",
    "\n",
    "for i in range(len(data)-1):\n",
    "    if int(data[i+1]) > int((data[i])):\n",
    "        larger += 1\n",
    "        \n",
    "print(larger)     \n"
   ]
  },
  {
   "cell_type": "code",
   "execution_count": 9,
   "id": "9485bf08",
   "metadata": {},
   "outputs": [
    {
     "name": "stdout",
     "output_type": "stream",
     "text": [
      "1486\n"
     ]
    }
   ],
   "source": [
    "def tresum(chunk):\n",
    "    count = 0\n",
    "    previous_sum = chunk[0:3]\n",
    "    for i in range(1,len(chunk)-2):\n",
    "        if int(sum(chunk[i:i+3])) > int(sum(previous_sum)):\n",
    "            count += 1\n",
    "        previous_sum = chunk[i:i+3]\n",
    "    return count    \n",
    "print(tresum(data))"
   ]
  },
  {
   "cell_type": "code",
   "execution_count": 166,
   "id": "ff928c76",
   "metadata": {},
   "outputs": [
    {
     "data": {
      "text/plain": [
       "852500"
      ]
     },
     "execution_count": 166,
     "metadata": {},
     "output_type": "execute_result"
    }
   ],
   "source": [
    "import statistics\n",
    "q = open(r\"aoc3.txt\", \"r\")\n",
    "tempdata3 = q.read().splitlines()\n",
    "data3 = [str(i) for i in tempdata3]\n",
    "mc = []\n",
    "for k in range(len(data3[0])):\n",
    "    mc.append((statistics.mode([x[k] for x in data3])))\n",
    "    \n",
    "gamma =(''.join(mc))\n",
    "eps = ''.join([str(1) if x ==\"0\" else str(0) for x in gamma])\n",
    "gamma =int(gamma,2)\n",
    "eps = (int(eps,2))\n",
    "consum = gamma * eps\n",
    "consum"
   ]
  },
  {
   "cell_type": "code",
   "execution_count": 124,
   "id": "06cc0908",
   "metadata": {},
   "outputs": [],
   "source": [
    "def most_common(data,y):\n",
    "    tmp = [x[y] for x in data]\n",
    "    zero = tmp.count('0')\n",
    "    uno = tmp.count('1')\n",
    "    if uno > zero:\n",
    "        mc = str(1)\n",
    "    elif zero > uno:\n",
    "        mc = str(0)\n",
    "    elif zero == uno:\n",
    "        mc = str(1)\n",
    "    return mc\n",
    "    "
   ]
  },
  {
   "cell_type": "code",
   "execution_count": 150,
   "id": "45b409b7",
   "metadata": {},
   "outputs": [],
   "source": [
    "def least_common(data,y):\n",
    "    tmp = [x[y] for x in data]\n",
    "    zero = tmp.count('0')\n",
    "    uno = tmp.count('1')\n",
    "    if uno > zero:\n",
    "        mc = str(0)\n",
    "    elif zero > uno:\n",
    "        mc = str(1)\n",
    "    elif zero == uno:\n",
    "        mc = str(0)\n",
    "    return mc"
   ]
  },
  {
   "cell_type": "code",
   "execution_count": null,
   "id": "93f49d00",
   "metadata": {},
   "outputs": [],
   "source": [
    "def trav(data,col,mc):\n",
    "    dt = []\n",
    "    for i in range(len(data)):\n",
    "        if data[i][col]==mc:\n",
    "            dt.append(data[i])\n",
    "    return dt     "
   ]
  },
  {
   "cell_type": "code",
   "execution_count": 165,
   "id": "b68c54e8",
   "metadata": {},
   "outputs": [],
   "source": [
    "data = data3\n",
    "for i in range(len(data3[0])):\n",
    "    mc = most_common(data,i)\n",
    "    data = trav(data,i,mc)\n",
    "ox = ''.join(data)\n",
    "ox = int(ox,2)\n"
   ]
  },
  {
   "cell_type": "code",
   "execution_count": 164,
   "id": "38257d0a",
   "metadata": {
    "scrolled": true
   },
   "outputs": [
    {
     "data": {
      "text/plain": [
       "1007985"
      ]
     },
     "execution_count": 164,
     "metadata": {},
     "output_type": "execute_result"
    }
   ],
   "source": [
    "ndt = data3\n",
    "\n",
    "for i in range(len(data3[0])):\n",
    "    if len(ndt) > 1:\n",
    "        lc = least_common(ndt,i)\n",
    "        ndt = trav(ndt,i,lc)\n",
    "    else:\n",
    "        break\n",
    "\n",
    "\n",
    "c02 = ''.join(ndt)\n",
    "c02 = int(c02,2)\n",
    "ox * c02"
   ]
  },
  {
   "cell_type": "code",
   "execution_count": 207,
   "id": "1645f8d5",
   "metadata": {},
   "outputs": [],
   "source": [
    "##Day 5 P1\n",
    "import numpy as np\n",
    "np.seterr(divide='ignore')\n",
    "d5d = open(r\"aoc5.txt\", \"r\")\n",
    "tempdata5 = d5d.read().splitlines()\n",
    "\n",
    "grid = np.zeros((1000,1000))\n",
    "for line in tempdata5:\n",
    "    X, Y = line.split('->')\n",
    "    p0 = [int(x) for x in X.split(',')]\n",
    "    p1 = [int(x) for x in Y.split(',')]\n",
    "    dx = np.sign(p1[0]-p0[0])\n",
    "    dy = np.sign(p1[1]-p0[1])\n",
    "    if dx ==0:\n",
    "        if dy > 0:\n",
    "            grid[p0[0],p0[1]:p1[1]+1] +=1\n",
    "        else:\n",
    "            grid[p0[0],p1[1]:p0[1]+1] +=1\n",
    "    if dy ==0:\n",
    "        if dx > 0:\n",
    "            grid[p0[0]:p1[0]+1,p0[1]] +=1\n",
    "        else:\n",
    "            grid[p1[0]:p0[0]+1,p0[1]] +=1\n"
   ]
  },
  {
   "cell_type": "code",
   "execution_count": 135,
   "id": "aa228dba",
   "metadata": {},
   "outputs": [
    {
     "name": "stdout",
     "output_type": "stream",
     "text": [
      "18065\n"
     ]
    }
   ],
   "source": [
    "##p2\n",
    "import numpy as np\n",
    "np.seterr(divide='ignore')\n",
    "d5d = open(r\"aoc5.txt\", \"r\")\n",
    "tempdata5 = d5d.read().splitlines()\n",
    "\n",
    "grid = np.zeros((1000,1000))\n",
    "for line in tempdata5:\n",
    "    X, Y = line.split('->')\n",
    "    p0 = [int(x) for x in X.split(',')]\n",
    "    p1 = [int(x) for x in Y.split(',')]\n",
    "    dx = np.sign(p1[0]-p0[0])\n",
    "    dy = np.sign(p1[1]-p0[1])\n",
    "    while (p0[0],p0[1]) != (p1[0]+dx,p1[1]+dy):\n",
    "        grid[p0[0],p0[1]] +=1\n",
    "        p0[0] = p0[0]+dx\n",
    "        p0[1] = p0[1]+dy\n",
    "print((grid> 1).sum())        "
   ]
  },
  {
   "cell_type": "code",
   "execution_count": 152,
   "id": "34160737",
   "metadata": {},
   "outputs": [
    {
     "name": "stdout",
     "output_type": "stream",
     "text": [
      "346063\n"
     ]
    }
   ],
   "source": [
    "##Day6\n",
    "d6d = open(r\"aoc6.txt\", \"r\")\n",
    "tempdata6 = d6d.read().split(',')\n",
    "data = [int(i) for i in tempdata6]\n",
    "for t in range(80):\n",
    "    for x in range(len(data)):\n",
    "        if data[x] == 0:\n",
    "            data[x] = 6\n",
    "            data.append(8)\n",
    "            continue\n",
    "        data[x] -= 1\n",
    "        \n",
    "print(len(data))       "
   ]
  },
  {
   "cell_type": "code",
   "execution_count": 159,
   "id": "dc3ed7d9",
   "metadata": {},
   "outputs": [
    {
     "ename": "KeyboardInterrupt",
     "evalue": "",
     "output_type": "error",
     "traceback": [
      "\u001b[1;31m---------------------------------------------------------------------------\u001b[0m",
      "\u001b[1;31mKeyboardInterrupt\u001b[0m                         Traceback (most recent call last)",
      "\u001b[1;32m<ipython-input-159-e515a5c206cf>\u001b[0m in \u001b[0;36m<module>\u001b[1;34m\u001b[0m\n\u001b[0;32m      8\u001b[0m             \u001b[0mdata\u001b[0m\u001b[1;33m.\u001b[0m\u001b[0mappend\u001b[0m\u001b[1;33m(\u001b[0m\u001b[1;36m8\u001b[0m\u001b[1;33m)\u001b[0m\u001b[1;33m\u001b[0m\u001b[1;33m\u001b[0m\u001b[0m\n\u001b[0;32m      9\u001b[0m             \u001b[1;32mcontinue\u001b[0m\u001b[1;33m\u001b[0m\u001b[1;33m\u001b[0m\u001b[0m\n\u001b[1;32m---> 10\u001b[1;33m         \u001b[0mdata\u001b[0m\u001b[1;33m[\u001b[0m\u001b[0mx\u001b[0m\u001b[1;33m]\u001b[0m \u001b[1;33m-=\u001b[0m \u001b[1;36m1\u001b[0m\u001b[1;33m\u001b[0m\u001b[1;33m\u001b[0m\u001b[0m\n\u001b[0m\u001b[0;32m     11\u001b[0m \u001b[1;33m\u001b[0m\u001b[0m\n\u001b[0;32m     12\u001b[0m \u001b[0mprint\u001b[0m\u001b[1;33m(\u001b[0m\u001b[0mlen\u001b[0m\u001b[1;33m(\u001b[0m\u001b[0mdata\u001b[0m\u001b[1;33m)\u001b[0m\u001b[1;33m)\u001b[0m\u001b[1;33m\u001b[0m\u001b[1;33m\u001b[0m\u001b[0m\n",
      "\u001b[1;31mKeyboardInterrupt\u001b[0m: "
     ]
    }
   ],
   "source": [
    "d6d = open(r\"aoc6.txt\", \"r\")\n",
    "tempdata6 = d6d.read().split(',')\n",
    "data = [int(i) for i in tempdata6]\n",
    "for t in range(256):\n",
    "    for x in range(len(data)):\n",
    "        if data[x] == 0:\n",
    "            data[x] = 6\n",
    "            data.append(8)\n",
    "            continue\n",
    "        data[x] -= 1\n",
    "        \n",
    "print(len(data))    "
   ]
  },
  {
   "cell_type": "code",
   "execution_count": 206,
   "id": "3fcc311d",
   "metadata": {},
   "outputs": [
    {
     "name": "stdout",
     "output_type": "stream",
     "text": [
      "344735.0\n",
      "96798233\n",
      "1892\n"
     ]
    }
   ],
   "source": [
    "#Day7\n",
    "d7d = open(r\"aoc7.txt\", \"r\")\n",
    "tempdata7 = d7d.read().split(',')\n",
    "data = [int(i) for i in tempdata7]\n",
    "print(sum(abs(data-np.median(data))))\n",
    "def gas(x):\n",
    "    return (x*(x+1)//2)\n",
    "p =[]\n",
    "for k in range(min(data),max(data)+1):\n",
    "    p.append(sum([gas(abs(x-k)) for x in data]))\n",
    "    \n",
    "print(min(p))3"
   ]
  }
 ],
 "metadata": {
  "kernelspec": {
   "display_name": "Python 3",
   "language": "python",
   "name": "python3"
  },
  "language_info": {
   "codemirror_mode": {
    "name": "ipython",
    "version": 3
   },
   "file_extension": ".py",
   "mimetype": "text/x-python",
   "name": "python",
   "nbconvert_exporter": "python",
   "pygments_lexer": "ipython3",
   "version": "3.8.8"
  }
 },
 "nbformat": 4,
 "nbformat_minor": 5
}
